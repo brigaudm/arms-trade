{
  "nbformat": 4,
  "nbformat_minor": 0,
  "metadata": {
    "colab": {
      "provenance": []
    },
    "kernelspec": {
      "name": "python3",
      "display_name": "Python 3"
    },
    "language_info": {
      "name": "python"
    }
  },
  "cells": [
    {
      "cell_type": "markdown",
      "source": [
        "# \tArms Trade Data:\n",
        "##  Items approved, revoked or refused for export to specific countries https://github.com/caatdata/uk-arms-export-data (items.csv)"
      ],
      "metadata": {
        "id": "WUrUjxw2n9Oy"
      }
    },
    {
      "cell_type": "code",
      "source": [
        "import pandas as pd\n",
        "from google.colab import files"
      ],
      "metadata": {
        "id": "nZmqHalwo-4S"
      },
      "execution_count": null,
      "outputs": []
    },
    {
      "cell_type": "code",
      "source": [
        "df = pd.read_csv(\"https://github.com/caatdata/uk-arms-export-data/raw/master/items.csv\")"
      ],
      "metadata": {
        "colab": {
          "base_uri": "https://localhost:8080/"
        },
        "id": "uJ_rwSFipEys",
        "outputId": "955c32a6-24fe-4d6f-bd84-30d2aff09292"
      },
      "execution_count": null,
      "outputs": [
        {
          "output_type": "stream",
          "name": "stderr",
          "text": [
            "<ipython-input-2-f7c3d3f0914d>:1: DtypeWarning: Columns (8,12) have mixed types. Specify dtype option on import or set low_memory=False.\n",
            "  df = pd.read_csv(\"https://github.com/caatdata/uk-arms-export-data/raw/master/items.csv\")\n"
          ]
        }
      ]
    },
    {
      "cell_type": "markdown",
      "source": [
        "## Some observations"
      ],
      "metadata": {
        "id": "6kG13e2ioFPC"
      }
    },
    {
      "cell_type": "markdown",
      "source": [
        "## 1. The UK exports the most arms to the USA, mainly sports guns"
      ],
      "metadata": {
        "id": "Td4ALU5SoYcI"
      }
    },
    {
      "cell_type": "code",
      "execution_count": null,
      "metadata": {
        "colab": {
          "base_uri": "https://localhost:8080/"
        },
        "id": "GTtl7BOznm1C",
        "outputId": "80d849a4-044d-418f-d064-0a46a9412186"
      },
      "outputs": [
        {
          "output_type": "execute_result",
          "data": {
            "text/plain": [
              "United States of America     26373\n",
              "India                        21380\n",
              "China                        16953\n",
              "France                       16279\n",
              "Germany                      14329\n",
              "                             ...  \n",
              "Nauru                            4\n",
              "Tuvalu                           3\n",
              "Wallis and Futuna Islands        3\n",
              "Sarawak                          3\n",
              "Continental Shelf                1\n",
              "Name: destination, Length: 252, dtype: int64"
            ]
          },
          "metadata": {},
          "execution_count": 3
        }
      ],
      "source": [
        "df.destination.value_counts()"
      ]
    },
    {
      "cell_type": "code",
      "source": [
        "df[df.destination == \"United States of America\"].item.value_counts()"
      ],
      "metadata": {
        "colab": {
          "base_uri": "https://localhost:8080/"
        },
        "id": "O6tk6ftRpY3X",
        "outputId": "a6bc0269-f35a-457b-bb9f-a94579ef4410"
      },
      "execution_count": null,
      "outputs": [
        {
          "output_type": "execute_result",
          "data": {
            "text/plain": [
              "sporting shotguns                                                                                         2049\n",
              "components for military support aircraft                                                                   851\n",
              "sporting guns                                                                                              753\n",
              "components for military aero-engines                                                                       540\n",
              "components for combat aircraft                                                                             538\n",
              "                                                                                                          ... \n",
              "technology for the use of software enabling equipment to function as military communications equipment       1\n",
              "unfinished products for launching equipment for anti-ship missiles                                           1\n",
              "equipment for the use of biological agent detection equipment                                                1\n",
              "software for chemical agent detection equipment                                                              1\n",
              "rocket separation mechanisms                                                                                 1\n",
              "Name: item, Length: 1900, dtype: int64"
            ]
          },
          "metadata": {},
          "execution_count": 4
        }
      ]
    },
    {
      "cell_type": "markdown",
      "source": [
        "### 2 The UK sends military aircraft and related equipment to China and various security equipments to India, its second and third most frequent arms importers"
      ],
      "metadata": {
        "id": "t_Hueg9yqCMU"
      }
    },
    {
      "cell_type": "code",
      "source": [
        "df[df.destination == \"India\"].item.value_counts()"
      ],
      "metadata": {
        "colab": {
          "base_uri": "https://localhost:8080/"
        },
        "id": "YDSABRy1pjKp",
        "outputId": "7f72cf62-3817-4d81-fe49-68c18e1acd13"
      },
      "execution_count": null,
      "outputs": [
        {
          "output_type": "execute_result",
          "data": {
            "text/plain": [
              "components for combat aircraft                                           1300\n",
              "components for military training aircraft                                 703\n",
              "components for military radars                                            606\n",
              "equipment employing cryptography                                          570\n",
              "information security equipment                                            558\n",
              "                                                                         ... \n",
              "technology for gyroscopes                                                   1\n",
              "technology for telemetering/telecontrol equipment                           1\n",
              "ceramic materials                                                           1\n",
              "ceramic precursor chemicals                                                 1\n",
              "technology for production installations for military support aircraft       1\n",
              "Name: item, Length: 1645, dtype: int64"
            ]
          },
          "metadata": {},
          "execution_count": 6
        }
      ]
    },
    {
      "cell_type": "code",
      "source": [
        "df[df.destination == \"China\"].item.value_counts()"
      ],
      "metadata": {
        "colab": {
          "base_uri": "https://localhost:8080/"
        },
        "id": "kVKlccmxqRR_",
        "outputId": "fb8df7ab-6341-4483-bb63-0ecc158af54b"
      },
      "execution_count": null,
      "outputs": [
        {
          "output_type": "execute_result",
          "data": {
            "text/plain": [
              "imaging cameras                                                      2362\n",
              "information security equipment                                       1138\n",
              "inertial equipment                                                   1093\n",
              "corrosion resistant chemical manufacturing equipment                  843\n",
              "instrumentation cameras                                               714\n",
              "                                                                     ... \n",
              "technology for civil explosive detection/identification equipment       1\n",
              "military parametric technical databases                                 1\n",
              "equipment for the use of materials testing equipment                    1\n",
              "electrical connectors                                                   1\n",
              "radium-226                                                              1\n",
              "Name: item, Length: 900, dtype: int64"
            ]
          },
          "metadata": {},
          "execution_count": 7
        }
      ]
    },
    {
      "cell_type": "markdown",
      "source": [
        "### 3 The UK exports viruses (as well as bacteria and toxins)\n"
      ],
      "metadata": {
        "id": "NCwDCvGQqoRk"
      }
    },
    {
      "cell_type": "code",
      "source": [
        "df[df.item.str.contains(\"virus|viruses\") == True].destination.value_counts()"
      ],
      "metadata": {
        "colab": {
          "base_uri": "https://localhost:8080/"
        },
        "id": "2AS8WyMyqa72",
        "outputId": "5fd30834-bc38-474a-89fb-221eaf89183e"
      },
      "execution_count": null,
      "outputs": [
        {
          "output_type": "execute_result",
          "data": {
            "text/plain": [
              "United States of America    35\n",
              "Russia                      30\n",
              "Canada                      19\n",
              "South Korea                 16\n",
              "Turkey                      14\n",
              "                            ..\n",
              "Estonia                      1\n",
              "Finland                      1\n",
              "Georgia                      1\n",
              "Greece                       1\n",
              "Gambia                       1\n",
              "Name: destination, Length: 82, dtype: int64"
            ]
          },
          "metadata": {},
          "execution_count": 8
        }
      ]
    },
    {
      "cell_type": "markdown",
      "source": [
        "## 4 The UK's main partners for nuclear-related exports are the US and France."
      ],
      "metadata": {
        "id": "9ZWkoOvwrb6R"
      }
    },
    {
      "cell_type": "code",
      "source": [
        "df[df.item.str.contains(\"nuclear\") == True].destination.value_counts()"
      ],
      "metadata": {
        "colab": {
          "base_uri": "https://localhost:8080/"
        },
        "id": "fN27kMaErOsW",
        "outputId": "ae3fce6b-cf9a-4140-fba6-2b547087bc2d"
      },
      "execution_count": null,
      "outputs": [
        {
          "output_type": "execute_result",
          "data": {
            "text/plain": [
              "United States of America    630\n",
              "France                      616\n",
              "Germany                     282\n",
              "Japan                       218\n",
              "Canada                      174\n",
              "Sweden                      149\n",
              "China                       123\n",
              "Italy                       112\n",
              "Belgium                     108\n",
              "Spain                        99\n",
              "Netherlands                  67\n",
              "Czech Republic               61\n",
              "Austria                      59\n",
              "Finland                      56\n",
              "South Korea                  36\n",
              "India                        29\n",
              "Bulgaria                     28\n",
              "Slovakia                     28\n",
              "Israel                       26\n",
              "Switzerland                  23\n",
              "Brazil                       20\n",
              "South Africa                 18\n",
              "Australia                    17\n",
              "Denmark                      14\n",
              "Singapore                    12\n",
              "Luxembourg                   11\n",
              "Taiwan                       11\n",
              "United Arab Emirates         11\n",
              "Greece                       11\n",
              "Slovenia                     10\n",
              "Kenya                         9\n",
              "Vietnam                       9\n",
              "Lithuania                     8\n",
              "Portugal                      8\n",
              "Hungary                       7\n",
              "Argentina                     7\n",
              "Poland                        7\n",
              "Turkey                        7\n",
              "Romania                       6\n",
              "Malaysia                      6\n",
              "Iran                          5\n",
              "Norway                        5\n",
              "Saudi Arabia                  4\n",
              "Thailand                      4\n",
              "Ukraine                       3\n",
              "United Kingdom                3\n",
              "New Zealand                   3\n",
              "Jordan                        2\n",
              "Cyprus                        2\n",
              "Pakistan                      2\n",
              "Ireland                       2\n",
              "Mexico                        2\n",
              "Tunisia                       1\n",
              "Qatar                         1\n",
              "Latvia                        1\n",
              "Libya                         1\n",
              "Kuwait                        1\n",
              "Croatia                       1\n",
              "Sierra Leone                  1\n",
              "Indonesia                     1\n",
              "Name: destination, dtype: int64"
            ]
          },
          "metadata": {},
          "execution_count": 9
        }
      ]
    },
    {
      "cell_type": "code",
      "source": [
        "df[(df.item.str.contains(\"nuclear\") == True) & (df.destination == \"France\")].item.value_counts()"
      ],
      "metadata": {
        "colab": {
          "base_uri": "https://localhost:8080/"
        },
        "id": "eI5c_ZxZsBOv",
        "outputId": "fada10cf-d5d1-41fd-f7a7-cac4429e0ff7"
      },
      "execution_count": null,
      "outputs": [
        {
          "output_type": "execute_result",
          "data": {
            "text/plain": [
              "technology for nuclear reactors                                                                                           247\n",
              "technology for nuclear fuel reprocessing equipment                                                                         76\n",
              "technology for nuclear reactor fuel element fabrication equipment                                                          68\n",
              "technology for nuclear grade graphite                                                                                      40\n",
              "software for nuclear reactors                                                                                              38\n",
              "components for nuclear reactors                                                                                            27\n",
              "technology for the development of nuclear reactors                                                                         18\n",
              "technology for the production of nuclear reactors                                                                          18\n",
              "technology for the use of nuclear reactors                                                                                 14\n",
              "technology for nuclear plant/equipment/materials/software controlled by entries 0A/0B/0C/0D of the Dual-Use Regulation     12\n",
              "technology for software for nuclear reactors                                                                               10\n",
              "technology for the production of nuclear reactor fuel element fabrication equipment                                         6\n",
              "technology for the use of nuclear fuel reprocessing equipment                                                               6\n",
              "technology for the use of nuclear reactor fuel element fabrication equipment                                                5\n",
              "technology for the development of nuclear reactor fuel element fabrication equipment                                        4\n",
              "components for nuclear radiation detection equipment                                                                        4\n",
              "technology for the production of nuclear fuel reprocessing equipment                                                        3\n",
              "components for training equipment for nuclear radiation detection equipment                                                 3\n",
              "technology for the development of nuclear fuel reprocessing equipment                                                       3\n",
              "software for nuclear fuel reprocessing equipment                                                                            2\n",
              "technology for the use of nuclear grade graphite                                                                            2\n",
              "training equipment for nuclear radiation detection equipment                                                                2\n",
              "software for the use of training equipment for nuclear radiation detection equipment                                        1\n",
              "nuclear radiation detection equipment                                                                                       1\n",
              "technology for software for nuclear fuel reprocessing equipment                                                             1\n",
              "technology for software for nuclear grade graphite                                                                          1\n",
              "technology for software for nuclear reactor fuel element fabrication equipment                                              1\n",
              "technology for the development of nuclear radiation detection equipment                                                     1\n",
              "software for nuclear grade graphite                                                                                         1\n",
              "components for nuclear fuel reprocessing equipment                                                                          1\n",
              "Name: item, dtype: int64"
            ]
          },
          "metadata": {},
          "execution_count": 13
        }
      ]
    },
    {
      "cell_type": "code",
      "source": [
        "df[(df.item.str.contains(\"nuclear\") == True) & (df.destination == \"United States of America\")].item.value_counts()"
      ],
      "metadata": {
        "colab": {
          "base_uri": "https://localhost:8080/"
        },
        "id": "ADoZmowYsBAx",
        "outputId": "f2d926eb-ef37-45e0-9ce8-e538099ff58c"
      },
      "execution_count": null,
      "outputs": [
        {
          "output_type": "execute_result",
          "data": {
            "text/plain": [
              "technology for nuclear reactors                                                                                                                              257\n",
              "software for nuclear reactors                                                                                                                                 85\n",
              "technology for nuclear reactor fuel element fabrication equipment                                                                                             52\n",
              "components for nuclear reactors                                                                                                                               36\n",
              "technology for nuclear grade graphite                                                                                                                         33\n",
              "technology for nuclear plant/equipment/materials/software controlled by entries 0A/0B/0C/0D of the Dual-Use Regulation                                        32\n",
              "technology for nuclear fuel reprocessing equipment                                                                                                            26\n",
              "technology for software for nuclear reactors                                                                                                                  22\n",
              "nuclear grade graphite                                                                                                                                        16\n",
              "technology for the development of nuclear reactors                                                                                                             9\n",
              "technology for the development/production/use of nuclear plant/equipment/materials/software controlled by entries 0A/0B/0C/0D of the Dual-Use Regulation       8\n",
              "software for nuclear reactor fuel element fabrication equipment                                                                                                7\n",
              "technology for the use of nuclear reactors                                                                                                                     6\n",
              "technology for the development of nuclear fuel reprocessing equipment                                                                                          4\n",
              "software for nuclear fuel reprocessing equipment                                                                                                               4\n",
              "nuclear reactor fuel element fabrication equipment                                                                                                             4\n",
              "technology for the production of nuclear reactors                                                                                                              3\n",
              "technology for software for nuclear reactor fuel element fabrication equipment                                                                                 2\n",
              "technology for the use of nuclear grade graphite                                                                                                               2\n",
              "technology for the use of nuclear reactor fuel element fabrication equipment                                                                                   2\n",
              "technology for the use of nuclear fuel reprocessing equipment                                                                                                  2\n",
              "technology for the production of nuclear reactor fuel element fabrication equipment                                                                            2\n",
              "technology for the production of nuclear fuel reprocessing equipment                                                                                           2\n",
              "technology for the development of nuclear reactor fuel element fabrication equipment                                                                           2\n",
              "simulators for nuclear radiation detection equipment                                                                                                           2\n",
              "technology for the development/production/use of nuclear plant/equipment/materials and software controlled by entries 0A 0B 0C and 0D of EC Reg 1334/2000      2\n",
              "training equipment for nuclear radiation detection equipment                                                                                                   1\n",
              "telecommunications equipment protected from nuclear EMP                                                                                                        1\n",
              "components for training equipment for nuclear radiation detection equipment                                                                                    1\n",
              "software for the use of nuclear reactors                                                                                                                       1\n",
              "software for nuclear grade graphite                                                                                                                            1\n",
              "technology for nuclear plant/equipment/materials/software controlled by entries 0B/0C/0D of the Dual-Use Regulation                                            1\n",
              "nuclear reactors                                                                                                                                               1\n",
              "software for the use of training equipment for nuclear radiation detection equipment                                                                           1\n",
              "Name: item, dtype: int64"
            ]
          },
          "metadata": {},
          "execution_count": 14
        }
      ]
    },
    {
      "cell_type": "code",
      "source": [
        "df[df.item.str.contains(\"technology for the development of nuclear radiation\") == True].destination"
      ],
      "metadata": {
        "colab": {
          "base_uri": "https://localhost:8080/"
        },
        "id": "I23YBrb-rwDb",
        "outputId": "bbc2d581-17cc-4655-b419-577cf35dbdf9"
      },
      "execution_count": null,
      "outputs": [
        {
          "output_type": "execute_result",
          "data": {
            "text/plain": [
              "16       Finland\n",
              "17464     France\n",
              "Name: destination, dtype: object"
            ]
          },
          "metadata": {},
          "execution_count": 10
        }
      ]
    },
    {
      "cell_type": "markdown",
      "source": [
        "# Next Steps\n",
        "\n",
        "- I would like to further investigate what exporting \"viruses\"/\"toxins\n",
        "\n",
        "- I think it would be interesting and potentially reveal some stories to do some visualizations that show how the types of items exported to different countries has changed over time\n",
        "\n",
        "- I think it would be cool make a visualization that shows relative size of flows to different countries and what sorts of things make up the bulk of exports."
      ],
      "metadata": {
        "id": "L0yzjWOKshaJ"
      }
    }
  ]
}